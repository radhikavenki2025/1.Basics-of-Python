{
 "cells": [
  {
   "cell_type": "markdown",
   "id": "76e628a7-3842-4dd9-ad3c-baffbf52cbd5",
   "metadata": {},
   "source": [
    "### Create a function and list out the items in the list "
   ]
  },
  {
   "cell_type": "code",
   "execution_count": 1,
   "id": "ad8bce3e-3056-43db-9a21-1449e539a1be",
   "metadata": {},
   "outputs": [],
   "source": [
    "\n",
    "def get_list():\n",
    "    numbers=[10,20,30,40,50]\n",
    "    print(numbers)\n",
    "    return numbers\n",
    "    "
   ]
  },
  {
   "cell_type": "code",
   "execution_count": 2,
   "id": "0601d754-9433-42f3-8927-d7a0a17e5236",
   "metadata": {},
   "outputs": [
    {
     "name": "stdout",
     "output_type": "stream",
     "text": [
      "[10, 20, 30, 40, 50]\n"
     ]
    },
    {
     "data": {
      "text/plain": [
       "[10, 20, 30, 40, 50]"
      ]
     },
     "execution_count": 2,
     "metadata": {},
     "output_type": "execute_result"
    }
   ],
   "source": [
    "get_list()"
   ]
  },
  {
   "cell_type": "markdown",
   "id": "bc29edf0-ed6c-49ae-863b-c1b0bfc4b3ad",
   "metadata": {},
   "source": [
    "#### SubfieldsinAI.Subfields()"
   ]
  },
  {
   "cell_type": "code",
   "execution_count": 3,
   "id": "94580a39-9327-4f38-b49f-b1c4bd5393e3",
   "metadata": {},
   "outputs": [],
   "source": [
    "def SubfieldsinAI():\n",
    "        subfields=[ \"MachineLearning\" ,\"Neural Networks\",\"Vision\",\"Robotics\",\"Speech Processing\",\"Natural Language Processing\"]\n",
    "        print(\"The Subfields in AI are:\")\n",
    "        for subfield in (subfields):\n",
    "            print(subfield)\n",
    "            \n",
    "        "
   ]
  },
  {
   "cell_type": "code",
   "execution_count": 4,
   "id": "8ca5c964-8627-4b4a-8d66-180cb878ef49",
   "metadata": {},
   "outputs": [
    {
     "name": "stdout",
     "output_type": "stream",
     "text": [
      "The Subfields in AI are:\n",
      "MachineLearning\n",
      "Neural Networks\n",
      "Vision\n",
      "Robotics\n",
      "Speech Processing\n",
      "Natural Language Processing\n"
     ]
    }
   ],
   "source": [
    "SubfieldsinAI()"
   ]
  },
  {
   "cell_type": "markdown",
   "id": "d8f77ae2-7572-4693-982c-80179546737d",
   "metadata": {},
   "source": [
    "##### Check whether the given number is odd or even "
   ]
  },
  {
   "cell_type": "code",
   "execution_count": 5,
   "id": "3d0e5ce9-8a27-4e8a-9a52-597d92890e08",
   "metadata": {},
   "outputs": [],
   "source": [
    "def OddEven():\n",
    "    num=int(input(\"Enter the number:\"))\n",
    "    if ((num%2==0)):\n",
    "        print(num,\"is Even number\")\n",
    "        output=(num)\n",
    "    else:\n",
    "        print(num,\"is Odd number\")\n",
    "        output=(num)\n",
    "    return output"
   ]
  },
  {
   "cell_type": "code",
   "execution_count": 6,
   "id": "68248363-9a06-4e33-a489-e5585c302239",
   "metadata": {},
   "outputs": [
    {
     "name": "stdin",
     "output_type": "stream",
     "text": [
      "Enter the number: 52452\n"
     ]
    },
    {
     "name": "stdout",
     "output_type": "stream",
     "text": [
      "52452 is Even number\n"
     ]
    }
   ],
   "source": [
    "output=OddEven()"
   ]
  },
  {
   "cell_type": "markdown",
   "id": "a8c60187-63ac-4f5b-b7de-ec2411f6c6c9",
   "metadata": {},
   "source": [
    "###### Create a function that tells the Eligibility of Marriage for male and female according to their age limit ( Male:21 , Female:18)"
   ]
  },
  {
   "cell_type": "code",
   "execution_count": 7,
   "id": "01988b0a-608c-4288-be56-8c48785d7a82",
   "metadata": {},
   "outputs": [],
   "source": [
    "def Eligibility():\n",
    "    gender=input(\"Your gender:\").strip()\n",
    "    age=int(input(\"Your Age:\"))\n",
    "    \n",
    "    if gender.lower()==\"male\":\n",
    "        if (age<21):\n",
    "            print(\"Not Eligible\")\n",
    "        else:\n",
    "            print(\"Eligible\")\n",
    "    else:\n",
    "            if (age<18):\n",
    "                print(\"Not Eligible\")\n",
    "            else:\n",
    "                print(\"Eligible\")\n",
    "    "
   ]
  },
  {
   "cell_type": "code",
   "execution_count": 8,
   "id": "536114b6-453d-493f-9534-92221b32c785",
   "metadata": {},
   "outputs": [
    {
     "name": "stdin",
     "output_type": "stream",
     "text": [
      "Your gender: male\n",
      "Your Age: 20\n"
     ]
    },
    {
     "name": "stdout",
     "output_type": "stream",
     "text": [
      "Not Eligible\n"
     ]
    }
   ],
   "source": [
    "Eligibility()"
   ]
  },
  {
   "cell_type": "markdown",
   "id": "5e292e22-b185-473e-b523-303f193b1cc1",
   "metadata": {},
   "source": [
    "#### Calculate the percentage of your 10th mark #### Findpercent.percentage()\n",
    "Subject1= 98\n",
    "Subject2= 87\n",
    "Subject3= 95\n",
    "Subject4= 95\n",
    "Subject5= 93\n",
    "Total : 468\n",
    "Percentage : 93.60000000000001\n"
   ]
  },
  {
   "cell_type": "code",
   "execution_count": 9,
   "id": "b545e09a-d96f-4bc3-afb9-5856241bab41",
   "metadata": {},
   "outputs": [],
   "source": [
    "def percentage():\n",
    "    Sub1=int(input(\"Subject 1 =\"))\n",
    "    Sub2=int(input(\"Subject 2 =\"))\n",
    "    Sub3=int(input(\"Subject 3 =\"))\n",
    "    Sub4=int(input(\"Subject 4 =\"))\n",
    "    Sub5=int(input(\"Subject 5 =\"))\n",
    "\n",
    "    part=Sub1+Sub2+Sub3+Sub4+Sub5\n",
    "    total=500\n",
    "    percentage=(part/total)*100\n",
    "    print(\"Total:\",part)\n",
    "    print(\"Percentage:\",percentage,\"%\")\n",
    "    output=percentage\n",
    "    return output\n",
    "    "
   ]
  },
  {
   "cell_type": "code",
   "execution_count": 10,
   "id": "0e9f1264-f6bb-44f3-9081-a7df0d8c704f",
   "metadata": {},
   "outputs": [
    {
     "name": "stdin",
     "output_type": "stream",
     "text": [
      "Subject 1 = 98\n",
      "Subject 2 = 87\n",
      "Subject 3 = 95\n",
      "Subject 4 = 95\n",
      "Subject 5 = 93\n"
     ]
    },
    {
     "name": "stdout",
     "output_type": "stream",
     "text": [
      "Total: 468\n",
      "Percentage: 93.60000000000001 %\n"
     ]
    },
    {
     "data": {
      "text/plain": [
       "93.60000000000001"
      ]
     },
     "execution_count": 10,
     "metadata": {},
     "output_type": "execute_result"
    }
   ],
   "source": [
    " percentage()\n"
   ]
  },
  {
   "cell_type": "markdown",
   "id": "9da8c719-7dce-4e4a-aaf5-064200f242df",
   "metadata": {},
   "source": [
    "#### print area and perimeter of triangle using class and functions\n",
    "Height:32\n",
    "Breadth:34\n",
    "Area formula: (Height*Breadth)/2\n",
    "Area of Triangle: 544.0\n",
    "Height1:2\n",
    "Height2:4\n",
    "Breadth:4\n",
    "Perimeter formula: Height1+Height2+Breadth\n",
    "Perimeter of Triangle: 10\n"
   ]
  },
  {
   "cell_type": "code",
   "execution_count": 13,
   "id": "a74910c6-83ac-4ebb-bd97-7bddf512cdbf",
   "metadata": {},
   "outputs": [],
   "source": [
    "def triangle():\n",
    "    h=32\n",
    "    b1=34\n",
    "    area=(h*b1)/2\n",
    "    print(\"Height:\",h)\n",
    "    print(\"Breadth:\",b1)\n",
    "    print(\"Area formula:\",\"(Height*Breadth)/2\")\n",
    "    print(\"Area of Triangle:\",area)\n",
    "    h1=2\n",
    "    h2=4\n",
    "    b2=4\n",
    "    perimeter=(h1+h2+b2)\n",
    "    print(\"Height1:\",h1)\n",
    "    print(\"Height2:\",h2)\n",
    "    print(\"Breadth:\",b2)\n",
    "    print(\"Perimeter formula=:\",\"Height1+Height2+Breadth\")\n",
    "    print(\"Perimeter of the Triangle:\",perimeter)\n",
    "    \n",
    "    "
   ]
  },
  {
   "cell_type": "code",
   "execution_count": 14,
   "id": "2ca8decc-5f0d-4e49-9ab2-03344b88947d",
   "metadata": {},
   "outputs": [
    {
     "name": "stdout",
     "output_type": "stream",
     "text": [
      "Height: 32\n",
      "Breadth: 34\n",
      "Area formula: (Height*Breadth)/2\n",
      "Area of Triangle: 544.0\n",
      "Height1: 2\n",
      "Height2: 4\n",
      "Breadth: 4\n",
      "Perimeter formula=: Height1+Height2+Breadth\n",
      "Perimeter of the Triangle: 10\n"
     ]
    }
   ],
   "source": [
    "triangle()"
   ]
  },
  {
   "cell_type": "code",
   "execution_count": null,
   "id": "a9b9565e-da7a-4902-adcf-fbd9d9725907",
   "metadata": {},
   "outputs": [],
   "source": []
  }
 ],
 "metadata": {
  "kernelspec": {
   "display_name": "Python 3 (ipykernel)",
   "language": "python",
   "name": "python3"
  },
  "language_info": {
   "codemirror_mode": {
    "name": "ipython",
    "version": 3
   },
   "file_extension": ".py",
   "mimetype": "text/x-python",
   "name": "python",
   "nbconvert_exporter": "python",
   "pygments_lexer": "ipython3",
   "version": "3.12.7"
  }
 },
 "nbformat": 4,
 "nbformat_minor": 5
}
