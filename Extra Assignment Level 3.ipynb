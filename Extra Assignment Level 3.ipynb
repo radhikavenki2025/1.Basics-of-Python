{
 "cells": [
  {
   "cell_type": "code",
   "execution_count": 18,
   "id": "cee3aa13-be34-4db7-914d-2b446605bbcf",
   "metadata": {},
   "outputs": [
    {
     "name": "stdout",
     "output_type": "stream",
     "text": [
      "value=10 Correct\n"
     ]
    }
   ],
   "source": [
    "i =10\n",
    "if (i==10):\n",
    "    print(\"value=10\",\"Correct\")\n"
   ]
  },
  {
   "cell_type": "code",
   "execution_count": 26,
   "id": "340195e2-9c61-4b14-96d7-cc8fb623cd87",
   "metadata": {},
   "outputs": [
    {
     "name": "stdin",
     "output_type": "stream",
     "text": [
      "Enter the password: HOPE@123\n"
     ]
    },
    {
     "name": "stdout",
     "output_type": "stream",
     "text": [
      "Your password is correct\n"
     ]
    }
   ],
   "source": [
    "password=input(\"Enter the password:\")\n",
    "if (password==\"HOPE@123\"):\n",
    "    print(\"Your password is correct\")\n"
   ]
  },
  {
   "cell_type": "code",
   "execution_count": 34,
   "id": "0ae20b1c-145e-4c9d-8a2a-fef9680342c9",
   "metadata": {},
   "outputs": [
    {
     "name": "stdin",
     "output_type": "stream",
     "text": [
      "Enter the age: 20\n"
     ]
    },
    {
     "name": "stdout",
     "output_type": "stream",
     "text": [
      "Adult\n"
     ]
    }
   ],
   "source": [
    "age=int(input(\"Enter the age:\"))\n",
    "if (age<18):\n",
    "    print(\"Children\")\n",
    "elif(age<45):\n",
    "    print(\"Adult\")\n",
    "elif(age<59):\n",
    "    print(\"Citizen\")\n",
    "elif(age>59):\n",
    "    print(\"Senior\")\n",
    "    "
   ]
  },
  {
   "cell_type": "code",
   "execution_count": 38,
   "id": "ad849599-09e2-42bf-9f91-ede6a7c41160",
   "metadata": {},
   "outputs": [
    {
     "name": "stdin",
     "output_type": "stream",
     "text": [
      "Enter any number: 1\n"
     ]
    },
    {
     "name": "stdout",
     "output_type": "stream",
     "text": [
      "No. is positive\n"
     ]
    }
   ],
   "source": [
    "No=float(input(\"Enter any number:\"))\n",
    "if(No>0):\n",
    "    print(\"No. is positive\")"
   ]
  },
  {
   "cell_type": "code",
   "execution_count": 41,
   "id": "b7156a8a-a4d4-420e-97e8-e77fee782295",
   "metadata": {},
   "outputs": [
    {
     "name": "stdin",
     "output_type": "stream",
     "text": [
      "Enter a number to check: 12\n"
     ]
    },
    {
     "name": "stdout",
     "output_type": "stream",
     "text": [
      "Number is not divisible by 5\n"
     ]
    }
   ],
   "source": [
    "Number=int(input(\"Enter a number to check:\"))\n",
    "Modulo=Number%5\n",
    "if (Modulo>0):\n",
    "    print(\"Number is not divisible by 5\")"
   ]
  },
  {
   "cell_type": "code",
   "execution_count": null,
   "id": "a9071d1e-4dd5-44b0-a812-5eaad6972c57",
   "metadata": {},
   "outputs": [],
   "source": []
  }
 ],
 "metadata": {
  "kernelspec": {
   "display_name": "Python 3 (ipykernel)",
   "language": "python",
   "name": "python3"
  },
  "language_info": {
   "codemirror_mode": {
    "name": "ipython",
    "version": 3
   },
   "file_extension": ".py",
   "mimetype": "text/x-python",
   "name": "python",
   "nbconvert_exporter": "python",
   "pygments_lexer": "ipython3",
   "version": "3.12.7"
  }
 },
 "nbformat": 4,
 "nbformat_minor": 5
}
