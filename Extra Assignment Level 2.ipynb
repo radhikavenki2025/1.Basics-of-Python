{
 "cells": [
  {
   "cell_type": "code",
   "execution_count": 1,
   "id": "75897279-db6e-4792-b42c-32f7e5597a56",
   "metadata": {},
   "outputs": [
    {
     "name": "stdout",
     "output_type": "stream",
     "text": [
      "0\n",
      "1\n",
      "2\n",
      "3\n",
      "4\n",
      "5\n",
      "6\n",
      "7\n",
      "8\n",
      "9\n",
      "10\n",
      "11\n",
      "12\n",
      "13\n",
      "14\n",
      "15\n",
      "16\n",
      "17\n",
      "18\n",
      "19\n"
     ]
    }
   ],
   "source": [
    "for temp in range(0,20):\n",
    "    print(temp)"
   ]
  },
  {
   "cell_type": "code",
   "execution_count": 14,
   "id": "c4d97b5d-a7de-4cd3-91b7-e79b4fae751e",
   "metadata": {},
   "outputs": [
    {
     "name": "stdout",
     "output_type": "stream",
     "text": [
      "10 11 12 13 14 15 16 17 18 19 "
     ]
    }
   ],
   "source": [
    "x=range(10,20)\n",
    "for x in range(10,20):\n",
    "    print(x,end=' ')\n",
    "    "
   ]
  },
  {
   "cell_type": "code",
   "execution_count": 15,
   "id": "3287e5d2-b239-4112-99a5-4b848692b58b",
   "metadata": {},
   "outputs": [
    {
     "name": "stdout",
     "output_type": "stream",
     "text": [
      "[10, 20, 14, 55, 43, 87, 76]\n",
      "Number of items in the List2: 7\n"
     ]
    }
   ],
   "source": [
    "x=[10,20,14,55,43,87,76]\n",
    "print(x)\n",
    "print(\"Number of items in the List2:\",len(x))"
   ]
  },
  {
   "cell_type": "code",
   "execution_count": 16,
   "id": "cbf168f6-720d-44d4-a5e0-3ef26e2b8530",
   "metadata": {},
   "outputs": [
    {
     "name": "stdout",
     "output_type": "stream",
     "text": [
      "A\n",
      "r\n",
      "t\n",
      "i\n",
      "f\n",
      "i\n",
      "c\n",
      "i\n",
      "a\n",
      "l\n",
      " \n",
      "I\n",
      "n\n",
      "t\n",
      "e\n",
      "l\n",
      "l\n",
      "i\n",
      "g\n",
      "e\n",
      "n\n",
      "c\n",
      "e\n"
     ]
    }
   ],
   "source": [
    "String=\"Artificial Intelligence\"\n",
    "for i in String:\n",
    "    print(i)"
   ]
  },
  {
   "cell_type": "code",
   "execution_count": 26,
   "id": "8fb7b394-f8a1-4335-97b5-c393011fda4e",
   "metadata": {},
   "outputs": [
    {
     "name": "stdout",
     "output_type": "stream",
     "text": [
      "- Your name -\n",
      "- Your Age -\n",
      "- Your Profession -\n"
     ]
    }
   ],
   "source": [
    "\n",
    "print(\"-\",\"Your name\",\"-\",)\n",
    "print(\"-\",\"Your Age\",\"-\")\n",
    "print(\"-\",\"Your Profession\",\"-\")"
   ]
  },
  {
   "cell_type": "code",
   "execution_count": 1,
   "id": "63faf6e5-b918-4663-a4de-328a9cca175b",
   "metadata": {},
   "outputs": [
    {
     "name": "stdout",
     "output_type": "stream",
     "text": [
      "('1', 'Welcome', '2', 'Hope')\n"
     ]
    }
   ],
   "source": [
    "tup=('1','Welcome','2','Hope')\n",
    "print(tup)"
   ]
  },
  {
   "cell_type": "code",
   "execution_count": 7,
   "id": "0120cd08-e0fa-4a3a-a88a-40a8cc5ba56b",
   "metadata": {},
   "outputs": [
    {
     "name": "stdout",
     "output_type": "stream",
     "text": [
      "(1, 2, 3, 4, 5) python HOPE\n"
     ]
    }
   ],
   "source": [
    "li=[1,2,3,4,5]\n",
    "tup=('python')\n",
    "tup1=('HOPE')\n",
    "print(tuple(li),(tup),(tup1))"
   ]
  },
  {
   "cell_type": "code",
   "execution_count": 14,
   "id": "22477f16-87bc-4b43-99a7-75b23696eaf4",
   "metadata": {},
   "outputs": [
    {
     "name": "stdout",
     "output_type": "stream",
     "text": [
      "[20, 10, 16, 19, 25, 1, 276, 188]\n",
      "19 is odd\n",
      "25 is odd\n",
      "1 is odd\n"
     ]
    }
   ],
   "source": [
    "list=[20,10,16,19,25,1,276,188]\n",
    "print(list)\n",
    "for temp in list:\n",
    "    modulo=temp%2\n",
    "    if(modulo==1):\n",
    "        print(temp,\"is odd\")"
   ]
  },
  {
   "cell_type": "code",
   "execution_count": 15,
   "id": "5f895930-9228-4736-9a8b-c71390bcb9f6",
   "metadata": {},
   "outputs": [
    {
     "name": "stdout",
     "output_type": "stream",
     "text": [
      "[20, 10, 16, 19, 25, 1, 276, 188]\n",
      "20 is even\n",
      "10 is even\n",
      "16 is even\n",
      "276 is even\n",
      "188 is even\n"
     ]
    }
   ],
   "source": [
    "list=[20,10,16,19,25,1,276,188]\n",
    "print(list)\n",
    "for temp in list:\n",
    "    modulo=temp%2\n",
    "    if(modulo==0):\n",
    "        print(temp,\"is even\")"
   ]
  },
  {
   "cell_type": "code",
   "execution_count": null,
   "id": "5fc9992f-aa19-4320-9b47-9ba0a137d745",
   "metadata": {},
   "outputs": [],
   "source": []
  }
 ],
 "metadata": {
  "kernelspec": {
   "display_name": "Python 3 (ipykernel)",
   "language": "python",
   "name": "python3"
  },
  "language_info": {
   "codemirror_mode": {
    "name": "ipython",
    "version": 3
   },
   "file_extension": ".py",
   "mimetype": "text/x-python",
   "name": "python",
   "nbconvert_exporter": "python",
   "pygments_lexer": "ipython3",
   "version": "3.12.7"
  }
 },
 "nbformat": 4,
 "nbformat_minor": 5
}
