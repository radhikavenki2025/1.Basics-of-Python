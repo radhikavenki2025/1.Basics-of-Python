{
 "cells": [
  {
   "cell_type": "code",
   "execution_count": 13,
   "id": "93f2b998-a224-4caa-9cd0-1daa9f124908",
   "metadata": {},
   "outputs": [],
   "source": [
    "## Scenario 1 : Eligibity to Vote\n",
    "\n",
    "def vote():\n",
    "    age=int(input(\"Enter the age:\"))\n",
    "    if (age==18 or age>18):\n",
    "        print(\"Congratulations!!! You are eligible to vote\")\n",
    "    else:\n",
    "        print(\"Sorry,You are not eligible to vote yet\")\n",
    "        "
   ]
  },
  {
   "cell_type": "code",
   "execution_count": 14,
   "id": "a675a9bb-b475-4cc1-8b65-4143be90d4f8",
   "metadata": {},
   "outputs": [
    {
     "name": "stdin",
     "output_type": "stream",
     "text": [
      "Enter the age: 18\n"
     ]
    },
    {
     "name": "stdout",
     "output_type": "stream",
     "text": [
      "Congratulations!!! You are eligible to vote\n"
     ]
    }
   ],
   "source": [
    "vote()"
   ]
  },
  {
   "cell_type": "code",
   "execution_count": 17,
   "id": "fc6fd607-2dc5-429d-977f-2f674925f90b",
   "metadata": {},
   "outputs": [],
   "source": [
    "## Scenario 2: Return Largest number from the list\n",
    "## max() ;returns the max of the defined variable\n",
    "\n",
    "def large_number():\n",
    "    list=[2,10,0,25,49,32,178,19,58,40,382,17]\n",
    "    largenumber=max(list)\n",
    "    print(largenumber)\n",
    "    return largenumber"
   ]
  },
  {
   "cell_type": "code",
   "execution_count": 18,
   "id": "9de7d806-f9f1-406d-9f98-397e7e088d4a",
   "metadata": {},
   "outputs": [
    {
     "name": "stdout",
     "output_type": "stream",
     "text": [
      "382\n"
     ]
    }
   ],
   "source": [
    "largenumber=large_number()"
   ]
  },
  {
   "cell_type": "code",
   "execution_count": 11,
   "id": "331c2ef2-4ce1-476f-86bb-61e6154375d1",
   "metadata": {},
   "outputs": [],
   "source": [
    "## Scenario 3:  Check bonus based on salary\n",
    "\n",
    "def bonus():\n",
    "    salary=float(input(\"Enter your salary:\"))\n",
    "    limit=int(50000)\n",
    "    if (salary==limit or salary>limit):\n",
    "        bonus=float(salary*10/100)\n",
    "        print(bonus)\n",
    "        return bonus\n",
    "    else:\n",
    "        print(\"Sorry,Not eligible for bonus\")"
   ]
  },
  {
   "cell_type": "code",
   "execution_count": 12,
   "id": "cd2c66fc-d089-45f3-8b6e-55f7eb7b429b",
   "metadata": {},
   "outputs": [
    {
     "name": "stdin",
     "output_type": "stream",
     "text": [
      "Enter your salary: 75480.65\n"
     ]
    },
    {
     "name": "stdout",
     "output_type": "stream",
     "text": [
      "7548.065\n"
     ]
    }
   ],
   "source": [
    "bonus=bonus()"
   ]
  },
  {
   "cell_type": "code",
   "execution_count": 13,
   "id": "8859fc31-cc76-47ee-9d62-6afafac3a844",
   "metadata": {},
   "outputs": [],
   "source": [
    "## Scenario 4 : Evaluate Odd or Even number\n",
    "\n",
    "def oddeven():\n",
    "    num=int(input(\"Enter the number:\"))\n",
    "    if ((num%2==0)):\n",
    "        print(\"Even number\")\n",
    "        message=\"Even number\"\n",
    "    else:\n",
    "        print(\"Odd number\")\n",
    "        message=\"Odd number\"\n",
    "    return message\n",
    "               "
   ]
  },
  {
   "cell_type": "code",
   "execution_count": 15,
   "id": "7a6c30c2-8518-4e44-a4a5-5624cf5ffee4",
   "metadata": {},
   "outputs": [
    {
     "name": "stdin",
     "output_type": "stream",
     "text": [
      "Enter the number: 48\n"
     ]
    },
    {
     "name": "stdout",
     "output_type": "stream",
     "text": [
      "Even number\n"
     ]
    }
   ],
   "source": [
    "message=oddeven()"
   ]
  },
  {
   "cell_type": "code",
   "execution_count": 20,
   "id": "1132721f-7fe9-4e70-9ac3-7ec6b6d8b222",
   "metadata": {},
   "outputs": [],
   "source": [
    "## Scenario 5: Text processing tool ; Reverse the given word or sentence\n",
    "## using Slicing function to reverse the given string \n",
    "\n",
    "def reverse_text():\n",
    "    text=str(\"gnimmargorp nohtyp\")\n",
    "    rev=text[::-1]\n",
    "    print(rev)\n",
    "    return rev\n",
    "    "
   ]
  },
  {
   "cell_type": "code",
   "execution_count": 21,
   "id": "6320343f-715d-490d-8663-2e69e96c7474",
   "metadata": {},
   "outputs": [
    {
     "name": "stdout",
     "output_type": "stream",
     "text": [
      "python programming\n"
     ]
    }
   ],
   "source": [
    "rev=reverse_text()"
   ]
  },
  {
   "cell_type": "code",
   "execution_count": 27,
   "id": "65584d51-5047-45b9-a61a-2f7252d67295",
   "metadata": {},
   "outputs": [],
   "source": [
    "## Scenario 6: Student grading system ; pass >40 else fail\n",
    "\n",
    "def student_grade():\n",
    "    mark=int(input(\"Enter the mark :\"))\n",
    "    if (mark>40):\n",
    "        print(\"Pass\")\n",
    "        result=\"Pass\"\n",
    "        return result\n",
    "    else:\n",
    "        print(\"Fail\")\n",
    "        result=\"Fail\"\n",
    "        return result\n",
    "\n"
   ]
  },
  {
   "cell_type": "code",
   "execution_count": 29,
   "id": "e0856653-d2ac-42d0-b669-4cce7fecf735",
   "metadata": {},
   "outputs": [
    {
     "name": "stdin",
     "output_type": "stream",
     "text": [
      "Enter the mark : 55\n"
     ]
    },
    {
     "name": "stdout",
     "output_type": "stream",
     "text": [
      "Pass\n"
     ]
    }
   ],
   "source": [
    "result=student_grade()"
   ]
  },
  {
   "cell_type": "code",
   "execution_count": 31,
   "id": "c5e21ec7-5436-42a9-a50c-bf3192c297b1",
   "metadata": {},
   "outputs": [],
   "source": [
    "## Scenario 7 : Retail store discount calculation\n",
    "\n",
    "def retail_store():\n",
    "    purchase=float(input(\"Enter the purchase amount:\"))\n",
    "    if (purchase>100):\n",
    "        discount=(purchase*20/100)\n",
    "        Amount=purchase-discount\n",
    "        print(Amount)\n",
    "        finalprice=Amount\n",
    "        return finalprice\n",
    "    else:\n",
    "        print(\"No discount\")\n",
    "        finalprice=purchase\n",
    "        return purchase\n",
    "        "
   ]
  },
  {
   "cell_type": "code",
   "execution_count": 34,
   "id": "795aaa04-5b5c-4b25-a04e-2ed7f88bc5e4",
   "metadata": {},
   "outputs": [
    {
     "name": "stdin",
     "output_type": "stream",
     "text": [
      "Enter the purchase amount: 200\n"
     ]
    },
    {
     "name": "stdout",
     "output_type": "stream",
     "text": [
      "160.0\n"
     ]
    }
   ],
   "source": [
    "purchase=retail_store()"
   ]
  },
  {
   "cell_type": "code",
   "execution_count": 12,
   "id": "31d102ce-e3e7-4c8a-a4a0-482bf757e784",
   "metadata": {},
   "outputs": [],
   "source": [
    "## Scenario 8: Banking system ;withdrawal requests check balance and allow accordingly , update balance\n",
    "\n",
    "def My_bankaccount():\n",
    "    w=float(input(\"Enter the Withdrawal amount:\"))  ##Withdrawal amount\n",
    "    I = float(100000)                           ##Inital Account balance\n",
    "    if (w<I):\n",
    "        Final_balance=I-w\n",
    "        print(Final_balance)\n",
    "        return Final_balance\n",
    "    else:\n",
    "        print(\"Low balance, Transaction Failed\")\n",
    "    "
   ]
  },
  {
   "cell_type": "code",
   "execution_count": 13,
   "id": "e2d5b715-b7a1-4491-b75e-00492ff79598",
   "metadata": {},
   "outputs": [
    {
     "name": "stdin",
     "output_type": "stream",
     "text": [
      "Enter the Withdrawal amount: 100500\n"
     ]
    },
    {
     "name": "stdout",
     "output_type": "stream",
     "text": [
      "Low balance, Transaction Failed\n"
     ]
    }
   ],
   "source": [
    "Final_balance=My_bankaccount()"
   ]
  },
  {
   "cell_type": "code",
   "execution_count": 16,
   "id": "a85dab59-d9f0-4f86-bd60-15e3c8446de8",
   "metadata": {},
   "outputs": [],
   "source": [
    "##Scenario 9: Find whether given year is a Leap year ## year/4=0 Leap year\n",
    "\n",
    "def year():\n",
    "    y=int(input(\"Enter the year:\"))\n",
    "    if (y%4==0):\n",
    "        print(\"The given year is a leap year\")\n",
    "        output=\"leap year\"\n",
    "        return output\n",
    "    else:\n",
    "        print(\"The given year is not a leap year\")\n",
    "        output=\"Not a leap year\"\n",
    "        return output\n",
    "        \n",
    "        "
   ]
  },
  {
   "cell_type": "code",
   "execution_count": 19,
   "id": "ebd3de06-31d9-4b4d-862d-8f68e517de48",
   "metadata": {},
   "outputs": [
    {
     "name": "stdin",
     "output_type": "stream",
     "text": [
      "Enter the year: 2025\n"
     ]
    },
    {
     "name": "stdout",
     "output_type": "stream",
     "text": [
      "The given year is not a leap year\n"
     ]
    }
   ],
   "source": [
    "output=year()"
   ]
  },
  {
   "cell_type": "code",
   "execution_count": 38,
   "id": "5f026f44-8a12-4d49-9134-f6cd5234ccf6",
   "metadata": {},
   "outputs": [],
   "source": [
    "## Scenario 10 :Extract even numbers from the list\n",
    "\n",
    "def even_no():\n",
    "    list=[0,3,6,11,24,19,28,84,67,99,248,77]\n",
    "    for temp in list:\n",
    "        if(temp%2==0):\n",
    "            print(temp)\n",
    "        "
   ]
  },
  {
   "cell_type": "code",
   "execution_count": 39,
   "id": "9cfc5784-ade4-410d-bdcb-2c1c01481ab2",
   "metadata": {},
   "outputs": [
    {
     "name": "stdout",
     "output_type": "stream",
     "text": [
      "0\n",
      "6\n",
      "24\n",
      "28\n",
      "84\n",
      "248\n"
     ]
    }
   ],
   "source": [
    "even_no()\n"
   ]
  },
  {
   "cell_type": "code",
   "execution_count": null,
   "id": "217403b0-8b63-476c-a58b-5b39c996c253",
   "metadata": {},
   "outputs": [],
   "source": []
  }
 ],
 "metadata": {
  "kernelspec": {
   "display_name": "Python 3 (ipykernel)",
   "language": "python",
   "name": "python3"
  },
  "language_info": {
   "codemirror_mode": {
    "name": "ipython",
    "version": 3
   },
   "file_extension": ".py",
   "mimetype": "text/x-python",
   "name": "python",
   "nbconvert_exporter": "python",
   "pygments_lexer": "ipython3",
   "version": "3.12.7"
  }
 },
 "nbformat": 4,
 "nbformat_minor": 5
}
